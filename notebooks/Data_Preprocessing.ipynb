{
 "cells": [
  {
   "cell_type": "markdown",
   "id": "d8dfe9fd",
   "metadata": {},
   "source": [
    "# DATA PROCEESSING"
   ]
  },
  {
   "cell_type": "markdown",
   "id": "54cf64ae",
   "metadata": {},
   "source": [
    "# Importing Libraries"
   ]
  },
  {
   "cell_type": "code",
   "execution_count": 1,
   "id": "4e48a372",
   "metadata": {},
   "outputs": [],
   "source": [
    "import pandas as pd\n",
    "import numpy as np\n",
    "import re\n",
    "import string\n",
    "import nltk\n",
    "import spacy\n",
    "from deep_translator import GoogleTranslator\n",
    "from nltk.corpus import stopwords\n",
    "from nltk.tokenize import word_tokenize\n",
    "from nltk.stem import WordNetLemmatizer\n",
    "import matplotlib.pyplot as plt\n",
    "import seaborn as sns"
   ]
  },
  {
   "cell_type": "markdown",
   "id": "3e6081d4",
   "metadata": {},
   "source": [
    "## Load NLTK stopwords and lemmatizer"
   ]
  },
  {
   "cell_type": "code",
   "execution_count": 2,
   "id": "006a52f5",
   "metadata": {},
   "outputs": [
    {
     "name": "stderr",
     "output_type": "stream",
     "text": [
      "[nltk_data] Downloading package stopwords to /home/apoorv/nltk_data...\n",
      "[nltk_data]   Package stopwords is already up-to-date!\n",
      "[nltk_data] Downloading package punkt to /home/apoorv/nltk_data...\n",
      "[nltk_data]   Package punkt is already up-to-date!\n",
      "[nltk_data] Downloading package wordnet to /home/apoorv/nltk_data...\n"
     ]
    }
   ],
   "source": [
    "nltk.download('stopwords')\n",
    "nltk.download('punkt')\n",
    "nltk.download('wordnet')\n",
    "stop_words = set(stopwords.words('english'))\n",
    "lemmatizer = WordNetLemmatizer()"
   ]
  },
  {
   "cell_type": "markdown",
   "id": "7d3e3981",
   "metadata": {},
   "source": [
    "## Load spaCy model for lemmatization"
   ]
  },
  {
   "cell_type": "code",
   "execution_count": 3,
   "id": "565bb689",
   "metadata": {},
   "outputs": [],
   "source": [
    "nlp = spacy.load(\"en_core_web_sm\")"
   ]
  },
  {
   "cell_type": "markdown",
   "id": "d20018b5",
   "metadata": {},
   "source": [
    "## Set the option to display full column width and all rows"
   ]
  },
  {
   "cell_type": "code",
   "execution_count": 4,
   "id": "ece56aac",
   "metadata": {},
   "outputs": [],
   "source": [
    "pd.set_option(\"display.max_colwidth\",None)\n",
    "pd.set_option(\"display.max_rows\",None)"
   ]
  },
  {
   "cell_type": "markdown",
   "id": "30b3c070",
   "metadata": {},
   "source": [
    "# Load your ABSA dataset\\"
   ]
  },
  {
   "cell_type": "code",
   "execution_count": 5,
   "id": "69e514c8",
   "metadata": {
    "scrolled": true
   },
   "outputs": [
    {
     "data": {
      "text/html": [
       "<div>\n",
       "<style scoped>\n",
       "    .dataframe tbody tr th:only-of-type {\n",
       "        vertical-align: middle;\n",
       "    }\n",
       "\n",
       "    .dataframe tbody tr th {\n",
       "        vertical-align: top;\n",
       "    }\n",
       "\n",
       "    .dataframe thead th {\n",
       "        text-align: right;\n",
       "    }\n",
       "</style>\n",
       "<table border=\"1\" class=\"dataframe\">\n",
       "  <thead>\n",
       "    <tr style=\"text-align: right;\">\n",
       "      <th></th>\n",
       "      <th>Review_ID</th>\n",
       "      <th>Sentence_ID</th>\n",
       "      <th>Text</th>\n",
       "      <th>Opinion_Target</th>\n",
       "      <th>Opinion_Category</th>\n",
       "      <th>Opinion_Polarity</th>\n",
       "    </tr>\n",
       "  </thead>\n",
       "  <tbody>\n",
       "    <tr>\n",
       "      <th>0</th>\n",
       "      <td>1004293</td>\n",
       "      <td>1004293:0</td>\n",
       "      <td>Judging from previous posts this used to be a good place, but not any longer.</td>\n",
       "      <td>place</td>\n",
       "      <td>RESTAURANT#GENERAL</td>\n",
       "      <td>negative</td>\n",
       "    </tr>\n",
       "    <tr>\n",
       "      <th>1</th>\n",
       "      <td>1004293</td>\n",
       "      <td>1004293:1</td>\n",
       "      <td>We, there were four of us, arrived at noon - the place was empty - and the staff acted like we were imposing on them and they were very rude.</td>\n",
       "      <td>staff</td>\n",
       "      <td>SERVICE#GENERAL</td>\n",
       "      <td>negative</td>\n",
       "    </tr>\n",
       "    <tr>\n",
       "      <th>2</th>\n",
       "      <td>1004293</td>\n",
       "      <td>1004293:2</td>\n",
       "      <td>They never brought us complimentary noodles, ignored repeated requests for sugar, and threw our dishes on the table.</td>\n",
       "      <td>NaN</td>\n",
       "      <td>SERVICE#GENERAL</td>\n",
       "      <td>negative</td>\n",
       "    </tr>\n",
       "    <tr>\n",
       "      <th>3</th>\n",
       "      <td>1004293</td>\n",
       "      <td>1004293:3</td>\n",
       "      <td>The food was lousy - too sweet or too salty and the portions tiny.</td>\n",
       "      <td>food</td>\n",
       "      <td>FOOD#QUALITY</td>\n",
       "      <td>negative</td>\n",
       "    </tr>\n",
       "    <tr>\n",
       "      <th>4</th>\n",
       "      <td>1004293</td>\n",
       "      <td>1004293:3</td>\n",
       "      <td>The food was lousy - too sweet or too salty and the portions tiny.</td>\n",
       "      <td>portions</td>\n",
       "      <td>FOOD#STYLE_OPTIONS</td>\n",
       "      <td>negative</td>\n",
       "    </tr>\n",
       "  </tbody>\n",
       "</table>\n",
       "</div>"
      ],
      "text/plain": [
       "   Review_ID Sentence_ID  \\\n",
       "0    1004293   1004293:0   \n",
       "1    1004293   1004293:1   \n",
       "2    1004293   1004293:2   \n",
       "3    1004293   1004293:3   \n",
       "4    1004293   1004293:3   \n",
       "\n",
       "                                                                                                                                            Text  \\\n",
       "0                                                                  Judging from previous posts this used to be a good place, but not any longer.   \n",
       "1  We, there were four of us, arrived at noon - the place was empty - and the staff acted like we were imposing on them and they were very rude.   \n",
       "2                           They never brought us complimentary noodles, ignored repeated requests for sugar, and threw our dishes on the table.   \n",
       "3                                                                             The food was lousy - too sweet or too salty and the portions tiny.   \n",
       "4                                                                             The food was lousy - too sweet or too salty and the portions tiny.   \n",
       "\n",
       "  Opinion_Target    Opinion_Category Opinion_Polarity  \n",
       "0          place  RESTAURANT#GENERAL         negative  \n",
       "1          staff     SERVICE#GENERAL         negative  \n",
       "2            NaN     SERVICE#GENERAL         negative  \n",
       "3           food        FOOD#QUALITY         negative  \n",
       "4       portions  FOOD#STYLE_OPTIONS         negative  "
      ]
     },
     "execution_count": 5,
     "metadata": {},
     "output_type": "execute_result"
    }
   ],
   "source": [
    "df = pd.read_csv(\"../datasets/training_dataset/Restaurant_Dataset.csv\")\n",
    "df.head()"
   ]
  },
  {
   "cell_type": "markdown",
   "id": "7be7140a",
   "metadata": {},
   "source": [
    "### Load database information"
   ]
  },
  {
   "cell_type": "code",
   "execution_count": 6,
   "id": "a75f069c",
   "metadata": {},
   "outputs": [
    {
     "name": "stdout",
     "output_type": "stream",
     "text": [
      "<class 'pandas.core.frame.DataFrame'>\n",
      "RangeIndex: 1654 entries, 0 to 1653\n",
      "Data columns (total 6 columns):\n",
      " #   Column            Non-Null Count  Dtype \n",
      "---  ------            --------------  ----- \n",
      " 0   Review_ID         1654 non-null   int64 \n",
      " 1   Sentence_ID       1654 non-null   object\n",
      " 2   Text              1654 non-null   object\n",
      " 3   Opinion_Target    1277 non-null   object\n",
      " 4   Opinion_Category  1654 non-null   object\n",
      " 5   Opinion_Polarity  1654 non-null   object\n",
      "dtypes: int64(1), object(5)\n",
      "memory usage: 77.7+ KB\n"
     ]
    }
   ],
   "source": [
    "df.info()"
   ]
  },
  {
   "cell_type": "markdown",
   "id": "fcecedfb",
   "metadata": {},
   "source": [
    "### Finding number of missing value"
   ]
  },
  {
   "cell_type": "code",
   "execution_count": 7,
   "id": "67d9cdd8",
   "metadata": {},
   "outputs": [
    {
     "name": "stdout",
     "output_type": "stream",
     "text": [
      "Review_ID             0\n",
      "Sentence_ID           0\n",
      "Text                  0\n",
      "Opinion_Target      377\n",
      "Opinion_Category      0\n",
      "Opinion_Polarity      0\n",
      "dtype: int64\n"
     ]
    }
   ],
   "source": [
    "missing_values = df.isnull().sum()\n",
    "print(missing_values)"
   ]
  },
  {
   "cell_type": "markdown",
   "id": "b0bbb1ed",
   "metadata": {},
   "source": [
    "### Handling missing values of Opinion_Target Column"
   ]
  },
  {
   "cell_type": "code",
   "execution_count": 8,
   "id": "7275f691",
   "metadata": {},
   "outputs": [],
   "source": [
    "def missing_value_handler(df):\n",
    "    return df['Opinion_Category'].split('#')[0].lower() if pd.isna(df['Opinion_Target']) else df['Opinion_Target']\n",
    "\n",
    "df['Opinion_Target'] = df.apply(missing_value_handler, axis = 1)"
   ]
  },
  {
   "cell_type": "markdown",
   "id": "2c80976d",
   "metadata": {},
   "source": [
    "### Checking number of missing value"
   ]
  },
  {
   "cell_type": "code",
   "execution_count": 9,
   "id": "5bf03a60",
   "metadata": {},
   "outputs": [
    {
     "name": "stdout",
     "output_type": "stream",
     "text": [
      "Review_ID           0\n",
      "Sentence_ID         0\n",
      "Text                0\n",
      "Opinion_Target      0\n",
      "Opinion_Category    0\n",
      "Opinion_Polarity    0\n",
      "dtype: int64\n"
     ]
    }
   ],
   "source": [
    "missing_values = df.isnull().sum()\n",
    "print(missing_values)"
   ]
  },
  {
   "cell_type": "markdown",
   "id": "90cfbb71",
   "metadata": {},
   "source": [
    "### Data Cleaning"
   ]
  },
  {
   "cell_type": "code",
   "execution_count": 10,
   "id": "166d3c6e",
   "metadata": {},
   "outputs": [],
   "source": [
    "def clean_text(text):\n",
    "    # Lowercase the text\n",
    "    text = text.lower()\n",
    "    # Remove special characters and punctuation\n",
    "    text = re.sub(f\"[{re.escape(string.punctuation)}]\", \"\", text)\n",
    "    return text"
   ]
  },
  {
   "cell_type": "markdown",
   "id": "5425e7f1",
   "metadata": {},
   "source": [
    "### Tokenization"
   ]
  },
  {
   "cell_type": "code",
   "execution_count": 11,
   "id": "d27a3808",
   "metadata": {},
   "outputs": [],
   "source": [
    "def tokenize_text(text):\n",
    "    tokens = word_tokenize(text)\n",
    "    return tokens"
   ]
  },
  {
   "cell_type": "markdown",
   "id": "1d018652",
   "metadata": {},
   "source": [
    "### Rejoins the tokens to form the sentence back"
   ]
  },
  {
   "cell_type": "code",
   "execution_count": 12,
   "id": "029f04ca",
   "metadata": {},
   "outputs": [],
   "source": [
    "def join_tokens(tokens):\n",
    "    return ' '.join(tokens)"
   ]
  },
  {
   "cell_type": "markdown",
   "id": "2c7a5f41",
   "metadata": {},
   "source": [
    "### Remove stopwords"
   ]
  },
  {
   "cell_type": "code",
   "execution_count": 13,
   "id": "78ca0bc6",
   "metadata": {},
   "outputs": [],
   "source": [
    "def remove_stopwords(tokens):\n",
    "    filtered_tokens = [word for word in tokens if word not in stop_words]\n",
    "    return filtered_tokens"
   ]
  },
  {
   "cell_type": "markdown",
   "id": "94dbcd07",
   "metadata": {},
   "source": [
    "### Lemmatization"
   ]
  },
  {
   "cell_type": "code",
   "execution_count": 14,
   "id": "872335ae",
   "metadata": {},
   "outputs": [],
   "source": [
    "def lemmatize_text(tokens):\n",
    "    lemmatized_tokens = [lemmatizer.lemmatize(word) for word in tokens]\n",
    "    return lemmatized_tokens"
   ]
  },
  {
   "cell_type": "markdown",
   "id": "c96213c6",
   "metadata": {},
   "source": [
    "### Removes the word with length less than or equal to 2"
   ]
  },
  {
   "cell_type": "code",
   "execution_count": 15,
   "id": "7b17c0a9",
   "metadata": {},
   "outputs": [],
   "source": [
    "def short_remover(tokens):\n",
    "    new_tokens = [word for word in tokens if len(word) > 2 ]\n",
    "    return new_tokens"
   ]
  },
  {
   "cell_type": "markdown",
   "id": "4164b1a2",
   "metadata": {},
   "source": [
    "## Translate text into English"
   ]
  },
  {
   "cell_type": "code",
   "execution_count": 16,
   "id": "7eac5b57",
   "metadata": {},
   "outputs": [],
   "source": [
    "def translate(text):\n",
    "    translator = GoogleTranslator(source='auto', target='en')\n",
    "    return translator.translate(text)\n",
    "\n",
    "# text1 = \"बढ़िया खाना था\"\n",
    "# translate(text1)"
   ]
  },
  {
   "cell_type": "markdown",
   "id": "a3b59100",
   "metadata": {},
   "source": [
    "### Converting emojies into words "
   ]
  },
  {
   "cell_type": "code",
   "execution_count": 17,
   "id": "d60ec455",
   "metadata": {},
   "outputs": [],
   "source": [
    "positive_emojis = \"\"\"😄😀😁😆😂🤣😊🙂😎😉😍🥰😘😋😛😝😜🤪🤩🥳🥰❤️👍👌🤟🍔🍕🍣🍰🍹🍷🍺\n",
    "                    🍦🍯🥞🍟🍩🥼🎉🎊🥳🍚🍘🍥🥠🥮🍢🍡🍧🍨🍦🥧🧁🍰🎂🍮🍭🍬🍫🍿🍩🍪🌰🥜\n",
    "                    🍯🍻🥂🍷🍾😀😃😄😆😅🥲\\😊😇🙂😀😃😄😁😅😆😂🙂😊🤒👏\"\"\"\n",
    "\n",
    "    \n",
    "negative_emojis = \"\"\"😔😞😢😭😤😠😡🤬😩😫🥺😖😣😠😤😷🤒🤕😐😶😒😏🙁🥶😨😱😰😳🥵😳😵\n",
    "                     🤯🤐🤮🥴🤢👎😈👿💔😩😔😞😢😭\"\"\"\n",
    "\n",
    "\n",
    "# add space between word and emoji\n",
    "def handle_emoji_helper(text):\n",
    "    i = 0\n",
    "    lst = list(text)\n",
    "    for word in text:\n",
    "        if word !=\" \" and (word in positive_emojis or word in negative_emojis):\n",
    "            lst.insert(i,\" \")\n",
    "        i+=1\n",
    "    return \"\".join(lst)\n",
    "\n",
    "def handle_emoji(sentence):\n",
    "    sentence = handle_emoji_helper(sentence)\n",
    "    words = sentence.split()\n",
    "    converted_sentence = []\n",
    "    for word in words:\n",
    "        if word in positive_emojis:\n",
    "            converted_sentence.append(\" good good\") # Don't change ( one word sentences will be removed in\n",
    "        elif word in negative_emojis:                                     #      preprocessing )\n",
    "            converted_sentence.append(\"bad bad\")\n",
    "        else:\n",
    "            converted_sentence.append(word)\n",
    "    return \" \".join(converted_sentence)\n",
    "\n",
    "# # Example usage:\n",
    "# input_sentence = \"😀\"\n",
    "# input_sentence = \"बढ़िया खाना था😀\"\n",
    "# converted = handle_emoji(input_sentence)\n",
    "# print(converted)"
   ]
  },
  {
   "cell_type": "markdown",
   "id": "8271675a",
   "metadata": {},
   "source": [
    "## Apply data cleaning and preprocessing"
   ]
  },
  {
   "cell_type": "code",
   "execution_count": 18,
   "id": "9efc6e63",
   "metadata": {
    "scrolled": true
   },
   "outputs": [],
   "source": [
    "df['Text'] = df['Text'].apply(clean_text)\n",
    "# df['Text'] = df['Text'].apply(translate)  \n",
    "df['Text'] = df['Text'].apply(handle_emoji)\n",
    "df['Token_Text'] = df['Text'].apply(tokenize_text)\n",
    "df['Token_Text'] = df['Token_Text'].apply(remove_stopwords)\n",
    "df['Token_Text'] = df['Token_Text'].apply(lemmatize_text)\n",
    "df['Token_Text'] = df['Token_Text'].apply(short_remover)\n",
    "df['Token_Text'] = df['Token_Text'].apply(join_tokens)"
   ]
  },
  {
   "cell_type": "markdown",
   "id": "6686a0a6",
   "metadata": {},
   "source": [
    "### Rearrange the column order"
   ]
  },
  {
   "cell_type": "code",
   "execution_count": 19,
   "id": "bb896c6e",
   "metadata": {},
   "outputs": [],
   "source": [
    "# Create a list of column names in the desired order\n",
    "desired_order = ['Review_ID', 'Sentence_ID', 'Text','Token_Text', 'Opinion_Target',\n",
    "       'Opinion_Category', 'Opinion_Polarity']\n",
    "\n",
    "# Rearrange the columns\n",
    "df = df[desired_order]"
   ]
  },
  {
   "cell_type": "code",
   "execution_count": 20,
   "id": "596bb26e",
   "metadata": {
    "scrolled": true
   },
   "outputs": [
    {
     "data": {
      "text/html": [
       "<div>\n",
       "<style scoped>\n",
       "    .dataframe tbody tr th:only-of-type {\n",
       "        vertical-align: middle;\n",
       "    }\n",
       "\n",
       "    .dataframe tbody tr th {\n",
       "        vertical-align: top;\n",
       "    }\n",
       "\n",
       "    .dataframe thead th {\n",
       "        text-align: right;\n",
       "    }\n",
       "</style>\n",
       "<table border=\"1\" class=\"dataframe\">\n",
       "  <thead>\n",
       "    <tr style=\"text-align: right;\">\n",
       "      <th></th>\n",
       "      <th>Review_ID</th>\n",
       "      <th>Sentence_ID</th>\n",
       "      <th>Text</th>\n",
       "      <th>Token_Text</th>\n",
       "      <th>Opinion_Target</th>\n",
       "      <th>Opinion_Category</th>\n",
       "      <th>Opinion_Polarity</th>\n",
       "    </tr>\n",
       "  </thead>\n",
       "  <tbody>\n",
       "    <tr>\n",
       "      <th>0</th>\n",
       "      <td>1004293</td>\n",
       "      <td>1004293:0</td>\n",
       "      <td>judging from previous posts this used to be a good place but not any longer</td>\n",
       "      <td>judging previous post used good place longer</td>\n",
       "      <td>place</td>\n",
       "      <td>RESTAURANT#GENERAL</td>\n",
       "      <td>negative</td>\n",
       "    </tr>\n",
       "    <tr>\n",
       "      <th>1</th>\n",
       "      <td>1004293</td>\n",
       "      <td>1004293:1</td>\n",
       "      <td>we there were four of us arrived at noon the place was empty and the staff acted like we were imposing on them and they were very rude</td>\n",
       "      <td>four arrived noon place empty staff acted like imposing rude</td>\n",
       "      <td>staff</td>\n",
       "      <td>SERVICE#GENERAL</td>\n",
       "      <td>negative</td>\n",
       "    </tr>\n",
       "    <tr>\n",
       "      <th>2</th>\n",
       "      <td>1004293</td>\n",
       "      <td>1004293:2</td>\n",
       "      <td>they never brought us complimentary noodles ignored repeated requests for sugar and threw our dishes on the table</td>\n",
       "      <td>never brought complimentary noodle ignored repeated request sugar threw dish table</td>\n",
       "      <td>service</td>\n",
       "      <td>SERVICE#GENERAL</td>\n",
       "      <td>negative</td>\n",
       "    </tr>\n",
       "    <tr>\n",
       "      <th>3</th>\n",
       "      <td>1004293</td>\n",
       "      <td>1004293:3</td>\n",
       "      <td>the food was lousy too sweet or too salty and the portions tiny</td>\n",
       "      <td>food lousy sweet salty portion tiny</td>\n",
       "      <td>food</td>\n",
       "      <td>FOOD#QUALITY</td>\n",
       "      <td>negative</td>\n",
       "    </tr>\n",
       "    <tr>\n",
       "      <th>4</th>\n",
       "      <td>1004293</td>\n",
       "      <td>1004293:3</td>\n",
       "      <td>the food was lousy too sweet or too salty and the portions tiny</td>\n",
       "      <td>food lousy sweet salty portion tiny</td>\n",
       "      <td>portions</td>\n",
       "      <td>FOOD#STYLE_OPTIONS</td>\n",
       "      <td>negative</td>\n",
       "    </tr>\n",
       "  </tbody>\n",
       "</table>\n",
       "</div>"
      ],
      "text/plain": [
       "   Review_ID Sentence_ID  \\\n",
       "0    1004293   1004293:0   \n",
       "1    1004293   1004293:1   \n",
       "2    1004293   1004293:2   \n",
       "3    1004293   1004293:3   \n",
       "4    1004293   1004293:3   \n",
       "\n",
       "                                                                                                                                     Text  \\\n",
       "0                                                             judging from previous posts this used to be a good place but not any longer   \n",
       "1  we there were four of us arrived at noon the place was empty and the staff acted like we were imposing on them and they were very rude   \n",
       "2                       they never brought us complimentary noodles ignored repeated requests for sugar and threw our dishes on the table   \n",
       "3                                                                         the food was lousy too sweet or too salty and the portions tiny   \n",
       "4                                                                         the food was lousy too sweet or too salty and the portions tiny   \n",
       "\n",
       "                                                                           Token_Text  \\\n",
       "0                                        judging previous post used good place longer   \n",
       "1                        four arrived noon place empty staff acted like imposing rude   \n",
       "2  never brought complimentary noodle ignored repeated request sugar threw dish table   \n",
       "3                                                 food lousy sweet salty portion tiny   \n",
       "4                                                 food lousy sweet salty portion tiny   \n",
       "\n",
       "  Opinion_Target    Opinion_Category Opinion_Polarity  \n",
       "0          place  RESTAURANT#GENERAL         negative  \n",
       "1          staff     SERVICE#GENERAL         negative  \n",
       "2        service     SERVICE#GENERAL         negative  \n",
       "3           food        FOOD#QUALITY         negative  \n",
       "4       portions  FOOD#STYLE_OPTIONS         negative  "
      ]
     },
     "execution_count": 20,
     "metadata": {},
     "output_type": "execute_result"
    }
   ],
   "source": [
    "df.head()"
   ]
  },
  {
   "cell_type": "markdown",
   "id": "69fe62fe",
   "metadata": {},
   "source": [
    "### Count the number of occurrences of each unique value (Need correction)"
   ]
  },
  {
   "cell_type": "code",
   "execution_count": 21,
   "id": "2ca5e844",
   "metadata": {},
   "outputs": [
    {
     "data": {
      "text/plain": [
       "Opinion_Polarity\n",
       "positive              1192\n",
       "negative               402\n",
       "neutral                 53\n",
       "FOOD#QUALITY             2\n",
       "RESTAURANT#GENERAL       2\n",
       "FOOD#STYLE_OPTIONS       1\n",
       "DRINKS#QUALITY           1\n",
       "SERVICE#GENERAL          1\n",
       "Name: count, dtype: int64"
      ]
     },
     "execution_count": 21,
     "metadata": {},
     "output_type": "execute_result"
    }
   ],
   "source": [
    "df.Opinion_Polarity.value_counts()"
   ]
  },
  {
   "cell_type": "markdown",
   "id": "738837d4",
   "metadata": {},
   "source": [
    "### Correction ( Deleting all other except ['negative', 'positive','neutral'] )"
   ]
  },
  {
   "cell_type": "code",
   "execution_count": 22,
   "id": "58fdabf7",
   "metadata": {},
   "outputs": [
    {
     "data": {
      "text/html": [
       "<div>\n",
       "<style scoped>\n",
       "    .dataframe tbody tr th:only-of-type {\n",
       "        vertical-align: middle;\n",
       "    }\n",
       "\n",
       "    .dataframe tbody tr th {\n",
       "        vertical-align: top;\n",
       "    }\n",
       "\n",
       "    .dataframe thead th {\n",
       "        text-align: right;\n",
       "    }\n",
       "</style>\n",
       "<table border=\"1\" class=\"dataframe\">\n",
       "  <thead>\n",
       "    <tr style=\"text-align: right;\">\n",
       "      <th></th>\n",
       "      <th>Review_ID</th>\n",
       "      <th>Sentence_ID</th>\n",
       "      <th>Text</th>\n",
       "      <th>Token_Text</th>\n",
       "      <th>Opinion_Target</th>\n",
       "      <th>Opinion_Category</th>\n",
       "      <th>Opinion_Polarity</th>\n",
       "    </tr>\n",
       "  </thead>\n",
       "  <tbody>\n",
       "    <tr>\n",
       "      <th>364</th>\n",
       "      <td>1300636</td>\n",
       "      <td>1300636:2</td>\n",
       "      <td>i have to highly recommend the lobster roll not to much mayo</td>\n",
       "      <td>highly recommend lobster roll much mayo</td>\n",
       "      <td>you can tell it was a fresh lobster.</td>\n",
       "      <td>lobster roll</td>\n",
       "      <td>FOOD#QUALITY</td>\n",
       "    </tr>\n",
       "    <tr>\n",
       "      <th>365</th>\n",
       "      <td>1300636</td>\n",
       "      <td>1300636:2</td>\n",
       "      <td>i have to highly recommend the lobster roll not to much mayo</td>\n",
       "      <td>highly recommend lobster roll much mayo</td>\n",
       "      <td>you can tell it was a fresh lobster.</td>\n",
       "      <td>lobster</td>\n",
       "      <td>FOOD#QUALITY</td>\n",
       "    </tr>\n",
       "    <tr>\n",
       "      <th>462</th>\n",
       "      <td>1352948</td>\n",
       "      <td>1352948:1</td>\n",
       "      <td>and where does patis go wrong</td>\n",
       "      <td>patis wrong</td>\n",
       "      <td>no where.</td>\n",
       "      <td>Patis</td>\n",
       "      <td>RESTAURANT#GENERAL</td>\n",
       "    </tr>\n",
       "    <tr>\n",
       "      <th>538</th>\n",
       "      <td>1410878</td>\n",
       "      <td>1410878:0</td>\n",
       "      <td>myagi is one of my favorite restaurants in the city</td>\n",
       "      <td>myagi one favorite restaurant city</td>\n",
       "      <td>the place the negative reviews describe sound like they were somewhere else.</td>\n",
       "      <td>Myagi</td>\n",
       "      <td>RESTAURANT#GENERAL</td>\n",
       "    </tr>\n",
       "    <tr>\n",
       "      <th>797</th>\n",
       "      <td>1615322</td>\n",
       "      <td>1615322:3</td>\n",
       "      <td>this restaurant is vegetarian</td>\n",
       "      <td>restaurant vegetarian</td>\n",
       "      <td>there are NO MEAT dishes whatsoever.</td>\n",
       "      <td>MEAT dishes</td>\n",
       "      <td>FOOD#STYLE_OPTIONS</td>\n",
       "    </tr>\n",
       "    <tr>\n",
       "      <th>1552</th>\n",
       "      <td>737999</td>\n",
       "      <td>737999:2</td>\n",
       "      <td>always good drinks and service is pretty good</td>\n",
       "      <td>always good drink service pretty good</td>\n",
       "      <td>drinks</td>\n",
       "      <td>drinks</td>\n",
       "      <td>DRINKS#QUALITY</td>\n",
       "    </tr>\n",
       "    <tr>\n",
       "      <th>1553</th>\n",
       "      <td>737999</td>\n",
       "      <td>737999:2</td>\n",
       "      <td>always good drinks and service is pretty good</td>\n",
       "      <td>always good drink service pretty good</td>\n",
       "      <td>service</td>\n",
       "      <td>service</td>\n",
       "      <td>SERVICE#GENERAL</td>\n",
       "    </tr>\n",
       "  </tbody>\n",
       "</table>\n",
       "</div>"
      ],
      "text/plain": [
       "      Review_ID Sentence_ID  \\\n",
       "364     1300636   1300636:2   \n",
       "365     1300636   1300636:2   \n",
       "462     1352948   1352948:1   \n",
       "538     1410878   1410878:0   \n",
       "797     1615322   1615322:3   \n",
       "1552     737999    737999:2   \n",
       "1553     737999    737999:2   \n",
       "\n",
       "                                                              Text  \\\n",
       "364   i have to highly recommend the lobster roll not to much mayo   \n",
       "365   i have to highly recommend the lobster roll not to much mayo   \n",
       "462                                  and where does patis go wrong   \n",
       "538            myagi is one of my favorite restaurants in the city   \n",
       "797                                  this restaurant is vegetarian   \n",
       "1552                 always good drinks and service is pretty good   \n",
       "1553                 always good drinks and service is pretty good   \n",
       "\n",
       "                                   Token_Text  \\\n",
       "364   highly recommend lobster roll much mayo   \n",
       "365   highly recommend lobster roll much mayo   \n",
       "462                               patis wrong   \n",
       "538        myagi one favorite restaurant city   \n",
       "797                     restaurant vegetarian   \n",
       "1552    always good drink service pretty good   \n",
       "1553    always good drink service pretty good   \n",
       "\n",
       "                                                                     Opinion_Target  \\\n",
       "364                                            you can tell it was a fresh lobster.   \n",
       "365                                            you can tell it was a fresh lobster.   \n",
       "462                                                                      no where.    \n",
       "538    the place the negative reviews describe sound like they were somewhere else.   \n",
       "797                                            there are NO MEAT dishes whatsoever.   \n",
       "1552                                                                         drinks   \n",
       "1553                                                                        service   \n",
       "\n",
       "     Opinion_Category    Opinion_Polarity  \n",
       "364      lobster roll        FOOD#QUALITY  \n",
       "365           lobster        FOOD#QUALITY  \n",
       "462             Patis  RESTAURANT#GENERAL  \n",
       "538             Myagi  RESTAURANT#GENERAL  \n",
       "797       MEAT dishes  FOOD#STYLE_OPTIONS  \n",
       "1552           drinks      DRINKS#QUALITY  \n",
       "1553          service     SERVICE#GENERAL  "
      ]
     },
     "execution_count": 22,
     "metadata": {},
     "output_type": "execute_result"
    }
   ],
   "source": [
    "filtered_df = df[~df['Opinion_Polarity'].isin(['negative', 'positive','neutral'])]\n",
    "filtered_df"
   ]
  },
  {
   "cell_type": "markdown",
   "id": "a8f0c0b0",
   "metadata": {},
   "source": [
    "### Correcting Wrong Data in Dataset"
   ]
  },
  {
   "cell_type": "code",
   "execution_count": 23,
   "id": "63aee16c",
   "metadata": {},
   "outputs": [],
   "source": [
    "filtered_df.loc[:, 'Opinion_Target'] = filtered_df['Opinion_Category']\n",
    "filtered_df.loc[:, 'Opinion_Category'] = filtered_df['Opinion_Polarity']\n",
    "\n",
    "filtered_df.loc[filtered_df['Sentence_ID'] == \"1300636:2\", 'Opinion_Polarity'] = \"positive\"\n",
    "filtered_df.loc[filtered_df['Sentence_ID'] == \"1352948:1\", 'Opinion_Polarity'] = \"neutral\"\n",
    "filtered_df.loc[filtered_df['Sentence_ID'] == \"1410878:0\", 'Opinion_Polarity'] = \"positive\"\n",
    "filtered_df.loc[filtered_df['Sentence_ID'] == \"1615322:3\", 'Opinion_Polarity'] = \"neutral\"\n",
    "filtered_df.loc[filtered_df['Sentence_ID'] == \"737999:2\", 'Opinion_Polarity'] = \"positive\""
   ]
  },
  {
   "cell_type": "code",
   "execution_count": 24,
   "id": "99660a54",
   "metadata": {},
   "outputs": [
    {
     "data": {
      "text/html": [
       "<div>\n",
       "<style scoped>\n",
       "    .dataframe tbody tr th:only-of-type {\n",
       "        vertical-align: middle;\n",
       "    }\n",
       "\n",
       "    .dataframe tbody tr th {\n",
       "        vertical-align: top;\n",
       "    }\n",
       "\n",
       "    .dataframe thead th {\n",
       "        text-align: right;\n",
       "    }\n",
       "</style>\n",
       "<table border=\"1\" class=\"dataframe\">\n",
       "  <thead>\n",
       "    <tr style=\"text-align: right;\">\n",
       "      <th></th>\n",
       "      <th>Review_ID</th>\n",
       "      <th>Sentence_ID</th>\n",
       "      <th>Text</th>\n",
       "      <th>Token_Text</th>\n",
       "      <th>Opinion_Target</th>\n",
       "      <th>Opinion_Category</th>\n",
       "      <th>Opinion_Polarity</th>\n",
       "    </tr>\n",
       "  </thead>\n",
       "  <tbody>\n",
       "    <tr>\n",
       "      <th>364</th>\n",
       "      <td>1300636</td>\n",
       "      <td>1300636:2</td>\n",
       "      <td>i have to highly recommend the lobster roll not to much mayo</td>\n",
       "      <td>highly recommend lobster roll much mayo</td>\n",
       "      <td>lobster roll</td>\n",
       "      <td>FOOD#QUALITY</td>\n",
       "      <td>positive</td>\n",
       "    </tr>\n",
       "    <tr>\n",
       "      <th>365</th>\n",
       "      <td>1300636</td>\n",
       "      <td>1300636:2</td>\n",
       "      <td>i have to highly recommend the lobster roll not to much mayo</td>\n",
       "      <td>highly recommend lobster roll much mayo</td>\n",
       "      <td>lobster</td>\n",
       "      <td>FOOD#QUALITY</td>\n",
       "      <td>positive</td>\n",
       "    </tr>\n",
       "    <tr>\n",
       "      <th>462</th>\n",
       "      <td>1352948</td>\n",
       "      <td>1352948:1</td>\n",
       "      <td>and where does patis go wrong</td>\n",
       "      <td>patis wrong</td>\n",
       "      <td>Patis</td>\n",
       "      <td>RESTAURANT#GENERAL</td>\n",
       "      <td>neutral</td>\n",
       "    </tr>\n",
       "    <tr>\n",
       "      <th>538</th>\n",
       "      <td>1410878</td>\n",
       "      <td>1410878:0</td>\n",
       "      <td>myagi is one of my favorite restaurants in the city</td>\n",
       "      <td>myagi one favorite restaurant city</td>\n",
       "      <td>Myagi</td>\n",
       "      <td>RESTAURANT#GENERAL</td>\n",
       "      <td>positive</td>\n",
       "    </tr>\n",
       "    <tr>\n",
       "      <th>797</th>\n",
       "      <td>1615322</td>\n",
       "      <td>1615322:3</td>\n",
       "      <td>this restaurant is vegetarian</td>\n",
       "      <td>restaurant vegetarian</td>\n",
       "      <td>MEAT dishes</td>\n",
       "      <td>FOOD#STYLE_OPTIONS</td>\n",
       "      <td>neutral</td>\n",
       "    </tr>\n",
       "    <tr>\n",
       "      <th>1552</th>\n",
       "      <td>737999</td>\n",
       "      <td>737999:2</td>\n",
       "      <td>always good drinks and service is pretty good</td>\n",
       "      <td>always good drink service pretty good</td>\n",
       "      <td>drinks</td>\n",
       "      <td>DRINKS#QUALITY</td>\n",
       "      <td>positive</td>\n",
       "    </tr>\n",
       "    <tr>\n",
       "      <th>1553</th>\n",
       "      <td>737999</td>\n",
       "      <td>737999:2</td>\n",
       "      <td>always good drinks and service is pretty good</td>\n",
       "      <td>always good drink service pretty good</td>\n",
       "      <td>service</td>\n",
       "      <td>SERVICE#GENERAL</td>\n",
       "      <td>positive</td>\n",
       "    </tr>\n",
       "  </tbody>\n",
       "</table>\n",
       "</div>"
      ],
      "text/plain": [
       "      Review_ID Sentence_ID  \\\n",
       "364     1300636   1300636:2   \n",
       "365     1300636   1300636:2   \n",
       "462     1352948   1352948:1   \n",
       "538     1410878   1410878:0   \n",
       "797     1615322   1615322:3   \n",
       "1552     737999    737999:2   \n",
       "1553     737999    737999:2   \n",
       "\n",
       "                                                              Text  \\\n",
       "364   i have to highly recommend the lobster roll not to much mayo   \n",
       "365   i have to highly recommend the lobster roll not to much mayo   \n",
       "462                                  and where does patis go wrong   \n",
       "538            myagi is one of my favorite restaurants in the city   \n",
       "797                                  this restaurant is vegetarian   \n",
       "1552                 always good drinks and service is pretty good   \n",
       "1553                 always good drinks and service is pretty good   \n",
       "\n",
       "                                   Token_Text Opinion_Target  \\\n",
       "364   highly recommend lobster roll much mayo   lobster roll   \n",
       "365   highly recommend lobster roll much mayo        lobster   \n",
       "462                               patis wrong          Patis   \n",
       "538        myagi one favorite restaurant city          Myagi   \n",
       "797                     restaurant vegetarian    MEAT dishes   \n",
       "1552    always good drink service pretty good         drinks   \n",
       "1553    always good drink service pretty good        service   \n",
       "\n",
       "        Opinion_Category Opinion_Polarity  \n",
       "364         FOOD#QUALITY         positive  \n",
       "365         FOOD#QUALITY         positive  \n",
       "462   RESTAURANT#GENERAL          neutral  \n",
       "538   RESTAURANT#GENERAL         positive  \n",
       "797   FOOD#STYLE_OPTIONS          neutral  \n",
       "1552      DRINKS#QUALITY         positive  \n",
       "1553     SERVICE#GENERAL         positive  "
      ]
     },
     "execution_count": 24,
     "metadata": {},
     "output_type": "execute_result"
    }
   ],
   "source": [
    "filtered_df"
   ]
  },
  {
   "cell_type": "markdown",
   "id": "e5da5ab0",
   "metadata": {},
   "source": [
    "### Updating main dataset df with filter_df dataset"
   ]
  },
  {
   "cell_type": "code",
   "execution_count": 25,
   "id": "f7a4bb42",
   "metadata": {},
   "outputs": [],
   "source": [
    "df.update(filtered_df)"
   ]
  },
  {
   "cell_type": "markdown",
   "id": "8d5d988c",
   "metadata": {},
   "source": [
    "### Removing Rows where Opinion_Polarity is neutral and where Token_Text is empty"
   ]
  },
  {
   "cell_type": "code",
   "execution_count": 26,
   "id": "31590069",
   "metadata": {},
   "outputs": [],
   "source": [
    "df = df[df['Opinion_Polarity'] != 'neutral']\n",
    "df = df[df.Token_Text != \"\"]"
   ]
  },
  {
   "cell_type": "markdown",
   "id": "d59e5249",
   "metadata": {},
   "source": [
    "### count the number of occurrences of each unique value"
   ]
  },
  {
   "cell_type": "code",
   "execution_count": 27,
   "id": "a9d7b229",
   "metadata": {},
   "outputs": [
    {
     "data": {
      "text/plain": [
       "Opinion_Polarity\n",
       "positive    1194\n",
       "negative     402\n",
       "Name: count, dtype: int64"
      ]
     },
     "execution_count": 27,
     "metadata": {},
     "output_type": "execute_result"
    }
   ],
   "source": [
    "df.Opinion_Polarity.value_counts()"
   ]
  },
  {
   "cell_type": "markdown",
   "id": "458999de",
   "metadata": {},
   "source": [
    "### Opinion_Polarity distribution in our dataset"
   ]
  },
  {
   "cell_type": "code",
   "execution_count": 28,
   "id": "006b722e",
   "metadata": {},
   "outputs": [
    {
     "data": {
      "image/png": "[encoded data removed]",
      "text/plain": [
       "<Figure size 640x480 with 1 Axes>"
      ]
     },
     "metadata": {},
     "output_type": "display_data"
    }
   ],
   "source": [
    "sns.countplot(x = \"Opinion_Polarity\", data = df)\n",
    "plt.show()"
   ]
  },
  {
   "cell_type": "markdown",
   "id": "e3bf16fc",
   "metadata": {},
   "source": [
    "### Adding dummy negative Opinion reviews in dataset "
   ]
  },
  {
   "cell_type": "code",
   "execution_count": 29,
   "id": "d7bcc368",
   "metadata": {},
   "outputs": [],
   "source": [
    "temp_df = df.copy()\n",
    "df_negative = df[df['Opinion_Polarity'] == 'negative']\n",
    "df = pd.concat([temp_df, df_negative], ignore_index=True) "
   ]
  },
  {
   "cell_type": "markdown",
   "id": "af9254a8",
   "metadata": {},
   "source": [
    "### Opinion_Polarity distribution in our dataset"
   ]
  },
  {
   "cell_type": "code",
   "execution_count": 30,
   "id": "12317d78",
   "metadata": {
    "scrolled": false
   },
   "outputs": [
    {
     "data": {
      "image/png": "[encoded data removed]",
      "text/plain": [
       "<Figure size 640x480 with 1 Axes>"
      ]
     },
     "metadata": {},
     "output_type": "display_data"
    }
   ],
   "source": [
    "sns.countplot(x = \"Opinion_Polarity\", data = df)\n",
    "plt.show()"
   ]
  },
  {
   "cell_type": "markdown",
   "id": "46986036",
   "metadata": {},
   "source": [
    "## Save the preprocessed data to a new CSV file"
   ]
  },
  {
   "cell_type": "code",
   "execution_count": 31,
   "id": "1886e882",
   "metadata": {},
   "outputs": [],
   "source": [
    "df.to_csv(\"../datasets/training_dataset/Preprocessed_Restuarant_Dataset.csv\", index=False)"
   ]
  }
 ],
 "metadata": {
  "kernelspec": {
   "display_name": "myenv",
   "language": "python",
   "name": "python3"
  },
  "language_info": {
   "codemirror_mode": {
    "name": "ipython",
    "version": 3
   },
   "file_extension": ".py",
   "mimetype": "text/x-python",
   "name": "python",
   "nbconvert_exporter": "python",
   "pygments_lexer": "ipython3",
   "version": "3.12.3"
  }
 },
 "nbformat": 4,
 "nbformat_minor": 5
}
